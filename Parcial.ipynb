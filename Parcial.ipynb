{
 "cells": [
  {
   "cell_type": "markdown",
   "metadata": {
    "collapsed": true,
    "pycharm": {
     "name": "#%% md\n"
    }
   },
   "source": [
    "<img src=\"https://www.galileo.edu/wp-content/uploads/2010/12/logo-ug.png\" width=\"200px\">\n",
    "<h3>Instituto de Investigación de operaciones</h3>\n",
    "<h3>Posgrado en Análisis y Predicción de Datos</h3>\n",
    "<h3><b>Ciencia de Datos con Python</b></h3>\n",
    "<h4><b>Profesor: Ing. Preng Biba</b></h4>\n",
    "\n",
    "<h4><b>Desarrollado por: Javier Navarro - 20015565</b></h4>\n"
   ]
  },
  {
   "cell_type": "markdown",
   "metadata": {},
   "source": [
    "<h1>Examen parcial</h1>\n",
    "\n",
    "Para la solución del parcial, requeriré de la biblioteca random para obtener elecciones aleatorias."
   ]
  },
  {
   "cell_type": "code",
   "execution_count": 2,
   "metadata": {
    "pycharm": {
     "name": "#%%\n"
    }
   },
   "outputs": [],
   "source": [
    "import random"
   ]
  },
  {
   "cell_type": "markdown",
   "metadata": {},
   "source": [
    "<h2> Parte 1:</h2>\n",
    "Desarrolle en Python un programa el cual genere un código alfa numérico de\n",
    "7 letras mayusculas y 7 números entetos, estos deben ser aleatorios, el código debe\n",
    "ser intercalado empezando por letras y cada numero debe ser de un dígito."
   ]
  },
  {
   "cell_type": "code",
   "execution_count": 6,
   "metadata": {
    "pycharm": {
     "name": "#%%\n"
    }
   },
   "outputs": [
    {
     "name": "stdout",
     "output_type": "stream",
     "text": [
      "Bienvenido a la solución del parcial de Javier Navarro - 20015565\n",
      "Codigos válidos:  {37: 'G3C8Q2B3R5X9N7', 31: 'Y6C4W3S6Z3W1D8', 33: 'Á6L1N8O7Ú2H8O1', 36: 'S2L2Ó7H4K9V5X7'}\n",
      "Codigos inválidos:  ['D2A1Ñ6Ñ5F5G2Y4', 'F0Ú4A3N4D0E5Q0', 'X2É5P8Q3E0F4F5', 'S4T7Ñ8J2D1M1U7']\n"
     ]
    }
   ],
   "source": [
    "def get_random_char():\n",
    "    # Primero debemos definir los posibles caracteres que se pueden obtener\n",
    "    # Opcion 1: string.ascii_uppercase, estos solo son caracteres ascii sin tildadas ni ñ\n",
    "    # trabajaremos con la opción 2 \"a piecito\"\n",
    "    # Opcion 2:\n",
    "    possible_characters = [\n",
    "        'A','B','C','D','E','F','G','H','I','J','K','L','M','N','O',\n",
    "        'P','Q','R','S','T','U','V','W','X','Y','Z','Ñ','Á','É','Í','Ó','Ú'\n",
    "    ]\n",
    "    # Para escoger aleatoriamente un caracter entre los posibles usaremos el metodo choice\n",
    "    # de la libreria random.\n",
    "    return random.choice(possible_characters)\n",
    "\n",
    "def get_random_digit():\n",
    "    # Primero debemos definir los posibles caracteres que se pueden obtener\n",
    "    # Opcion 1: string.digits pero trabajaremos con la opción 2 \"a piecito\"\n",
    "    # Opcion 2:\n",
    "    possible_digit = [0, 1, 2, 3, 4, 5, 6, 7, 8, 9]\n",
    "    # Para escoger aleatoriamente un caracter entre los posibles usaremos el metodo choice\n",
    "    # de la libreria random.\n",
    "    return random.choice(possible_digit)\n",
    "\n",
    "def get_code_and_sum(n):\n",
    "    # Este método generará el código de longitud: n\n",
    "    if n > 1:\n",
    "        # Generamos los primeros dos elementos del código, esto porque la longitud es mayor a 2\n",
    "        result = get_random_char()\n",
    "        tmp = get_random_digit()\n",
    "        sum_of_numbers = tmp\n",
    "        result += str(tmp)\n",
    "        for i in range(2, n):\n",
    "            if i % 2 != 0:\n",
    "                # ya que la posicion 1 ya la asignamos a caracter, tomamos los impares como digitos\n",
    "                tmp = get_random_digit()\n",
    "                sum_of_numbers += tmp\n",
    "                result += str(tmp)\n",
    "            else:\n",
    "                # Todas las posiciones pares serán caracteres.\n",
    "                result += get_random_char()\n",
    "        return result, sum_of_numbers\n",
    "    else:\n",
    "        if n == 1:\n",
    "            # est es el caso base, en que la longitud es igual a 1.\n",
    "            return get_random_char(), 0\n",
    "        else:\n",
    "            # est es el caso base, en que la longitud es igual a 0.\n",
    "            return '', 0\n",
    "\n",
    "def main():\n",
    "    exit_flag = False\n",
    "    print(\"Bienvenido a la solución del parcial de Javier Navarro - 20015565\")\n",
    "    valid_codes = {}\n",
    "    invalid_codes = []\n",
    "    while not exit_flag:\n",
    "        text = input('Presiona <Enter> para generar un código, escribe \"exit\" para salir')\n",
    "        # Podemos capturar los eventos del teclado con una librería de Python, pynput\n",
    "        # La solución sin usar librerías seria validar que:\n",
    "        if text == \"\":\n",
    "            # Si la entrada es vacía quiere decir que solo se presionó enter\n",
    "            # Llamo a la función con 14 pero podria ser cualquier longitud.\n",
    "            code, sum_of_numbers = get_code_and_sum(14)\n",
    "            if sum_of_numbers > 30:\n",
    "                valid_codes[sum_of_numbers] = code\n",
    "            else:\n",
    "                invalid_codes.append(code)\n",
    "        elif text.lower() == \"exit\" :\n",
    "            # Al pasar todo a minusculas, garantizo que sea Case insensitive la\n",
    "            # comparación\n",
    "            print('Codigos válidos: ', valid_codes)\n",
    "            print('Codigos inválidos: ', invalid_codes)\n",
    "            exit_flag = True\n",
    "        else:\n",
    "            print(\"No seguiste instrucciones, no se hizo nada.\")\n",
    "\n",
    "main()"
   ]
  },
  {
   "cell_type": "code",
   "execution_count": 11,
   "outputs": [
    {
     "name": "stdout",
     "output_type": "stream",
     "text": [
      "1\n"
     ]
    }
   ],
   "source": [
    "estudiantes=[1,2,3,4,5,6,7,8,9,10]\n",
    "print(estudiantes[-0])"
   ],
   "metadata": {
    "collapsed": false,
    "pycharm": {
     "name": "#%%\n"
    }
   }
  },
  {
   "cell_type": "code",
   "execution_count": 12,
   "outputs": [
    {
     "name": "stdout",
     "output_type": "stream",
     "text": [
      "False\n"
     ]
    }
   ],
   "source": [
    "bools=[True, False, False, True]\n",
    "print(all(bools))\n"
   ],
   "metadata": {
    "collapsed": false,
    "pycharm": {
     "name": "#%%\n"
    }
   }
  },
  {
   "cell_type": "code",
   "execution_count": 13,
   "outputs": [
    {
     "data": {
      "text/plain": "0.04820380000001023"
     },
     "execution_count": 13,
     "metadata": {},
     "output_type": "execute_result"
    }
   ],
   "source": [
    "import timeit\n",
    "\n",
    "timeit.timeit('i=1\\ni+=3')"
   ],
   "metadata": {
    "collapsed": false,
    "pycharm": {
     "name": "#%%\n"
    }
   }
  },
  {
   "cell_type": "code",
   "execution_count": 14,
   "outputs": [
    {
     "data": {
      "text/plain": "0.049202900000182126"
     },
     "execution_count": 14,
     "metadata": {},
     "output_type": "execute_result"
    }
   ],
   "source": [
    "timeit.timeit('i=1\\ni=i+3')\n"
   ],
   "metadata": {
    "collapsed": false,
    "pycharm": {
     "name": "#%%\n"
    }
   }
  },
  {
   "cell_type": "code",
   "execution_count": 15,
   "outputs": [
    {
     "data": {
      "text/plain": "0.06964719999996305"
     },
     "execution_count": 15,
     "metadata": {},
     "output_type": "execute_result"
    }
   ],
   "source": [
    "timeit.timeit('i=1\\ni*=3')\n"
   ],
   "metadata": {
    "collapsed": false,
    "pycharm": {
     "name": "#%%\n"
    }
   }
  },
  {
   "cell_type": "code",
   "execution_count": 17,
   "outputs": [
    {
     "ename": "ModuleNotFoundError",
     "evalue": "No module named 'Counter'",
     "output_type": "error",
     "traceback": [
      "\u001B[1;31m---------------------------------------------------------------------------\u001B[0m",
      "\u001B[1;31mModuleNotFoundError\u001B[0m                       Traceback (most recent call last)",
      "\u001B[1;32m<ipython-input-17-3afff85b1ccb>\u001B[0m in \u001B[0;36m<module>\u001B[1;34m\u001B[0m\n\u001B[1;32m----> 1\u001B[1;33m \u001B[0mtimeit\u001B[0m\u001B[1;33m.\u001B[0m\u001B[0mtimeit\u001B[0m\u001B[1;33m(\u001B[0m\u001B[1;34m'import Counter\\ni=1\\ni=Counter(3)'\u001B[0m\u001B[1;33m)\u001B[0m\u001B[1;33m\u001B[0m\u001B[1;33m\u001B[0m\u001B[0m\n\u001B[0m\u001B[0;32m      2\u001B[0m \u001B[1;33m\u001B[0m\u001B[0m\n",
      "\u001B[1;32m~\\anaconda3\\lib\\timeit.py\u001B[0m in \u001B[0;36mtimeit\u001B[1;34m(stmt, setup, timer, number, globals)\u001B[0m\n\u001B[0;32m    231\u001B[0m            number=default_number, globals=None):\n\u001B[0;32m    232\u001B[0m     \u001B[1;34m\"\"\"Convenience function to create Timer object and call timeit method.\"\"\"\u001B[0m\u001B[1;33m\u001B[0m\u001B[1;33m\u001B[0m\u001B[0m\n\u001B[1;32m--> 233\u001B[1;33m     \u001B[1;32mreturn\u001B[0m \u001B[0mTimer\u001B[0m\u001B[1;33m(\u001B[0m\u001B[0mstmt\u001B[0m\u001B[1;33m,\u001B[0m \u001B[0msetup\u001B[0m\u001B[1;33m,\u001B[0m \u001B[0mtimer\u001B[0m\u001B[1;33m,\u001B[0m \u001B[0mglobals\u001B[0m\u001B[1;33m)\u001B[0m\u001B[1;33m.\u001B[0m\u001B[0mtimeit\u001B[0m\u001B[1;33m(\u001B[0m\u001B[0mnumber\u001B[0m\u001B[1;33m)\u001B[0m\u001B[1;33m\u001B[0m\u001B[1;33m\u001B[0m\u001B[0m\n\u001B[0m\u001B[0;32m    234\u001B[0m \u001B[1;33m\u001B[0m\u001B[0m\n\u001B[0;32m    235\u001B[0m def repeat(stmt=\"pass\", setup=\"pass\", timer=default_timer,\n",
      "\u001B[1;32m~\\anaconda3\\lib\\timeit.py\u001B[0m in \u001B[0;36mtimeit\u001B[1;34m(self, number)\u001B[0m\n\u001B[0;32m    175\u001B[0m         \u001B[0mgc\u001B[0m\u001B[1;33m.\u001B[0m\u001B[0mdisable\u001B[0m\u001B[1;33m(\u001B[0m\u001B[1;33m)\u001B[0m\u001B[1;33m\u001B[0m\u001B[1;33m\u001B[0m\u001B[0m\n\u001B[0;32m    176\u001B[0m         \u001B[1;32mtry\u001B[0m\u001B[1;33m:\u001B[0m\u001B[1;33m\u001B[0m\u001B[1;33m\u001B[0m\u001B[0m\n\u001B[1;32m--> 177\u001B[1;33m             \u001B[0mtiming\u001B[0m \u001B[1;33m=\u001B[0m \u001B[0mself\u001B[0m\u001B[1;33m.\u001B[0m\u001B[0minner\u001B[0m\u001B[1;33m(\u001B[0m\u001B[0mit\u001B[0m\u001B[1;33m,\u001B[0m \u001B[0mself\u001B[0m\u001B[1;33m.\u001B[0m\u001B[0mtimer\u001B[0m\u001B[1;33m)\u001B[0m\u001B[1;33m\u001B[0m\u001B[1;33m\u001B[0m\u001B[0m\n\u001B[0m\u001B[0;32m    178\u001B[0m         \u001B[1;32mfinally\u001B[0m\u001B[1;33m:\u001B[0m\u001B[1;33m\u001B[0m\u001B[1;33m\u001B[0m\u001B[0m\n\u001B[0;32m    179\u001B[0m             \u001B[1;32mif\u001B[0m \u001B[0mgcold\u001B[0m\u001B[1;33m:\u001B[0m\u001B[1;33m\u001B[0m\u001B[1;33m\u001B[0m\u001B[0m\n",
      "\u001B[1;32m~\\anaconda3\\lib\\timeit.py\u001B[0m in \u001B[0;36minner\u001B[1;34m(_it, _timer)\u001B[0m\n",
      "\u001B[1;31mModuleNotFoundError\u001B[0m: No module named 'Counter'"
     ]
    }
   ],
   "source": [
    "timeit.timeit('import Counter\\ni=1\\ni=Counter(3)')"
   ],
   "metadata": {
    "collapsed": false,
    "pycharm": {
     "name": "#%%\n"
    }
   }
  },
  {
   "cell_type": "code",
   "execution_count": 18,
   "outputs": [
    {
     "name": "stdout",
     "output_type": "stream",
     "text": [
      "['a', 2, True, 'a', 2, True]\n"
     ]
    }
   ],
   "source": [
    "lista=[\"a\",2,True]\n",
    "print(lista*2)\n"
   ],
   "metadata": {
    "collapsed": false,
    "pycharm": {
     "name": "#%%\n"
    }
   }
  },
  {
   "cell_type": "code",
   "execution_count": 19,
   "outputs": [
    {
     "name": "stdout",
     "output_type": "stream",
     "text": [
      "True\n"
     ]
    }
   ],
   "source": [
    "valor=2\n",
    "print(valor in lista)\n"
   ],
   "metadata": {
    "collapsed": false,
    "pycharm": {
     "name": "#%%\n"
    }
   }
  },
  {
   "cell_type": "code",
   "execution_count": 20,
   "outputs": [
    {
     "name": "stdout",
     "output_type": "stream",
     "text": [
      "Vale 2\n"
     ]
    }
   ],
   "source": [
    "if valor==2:\n",
    "    print(\"Vale 2\")\n"
   ],
   "metadata": {
    "collapsed": false,
    "pycharm": {
     "name": "#%%\n"
    }
   }
  },
  {
   "cell_type": "code",
   "execution_count": 21,
   "outputs": [
    {
     "name": "stdout",
     "output_type": "stream",
     "text": [
      "True\n"
     ]
    }
   ],
   "source": [
    "print(((not True) or (True and True)) or (1>0))"
   ],
   "metadata": {
    "collapsed": false,
    "pycharm": {
     "name": "#%%\n"
    }
   }
  },
  {
   "cell_type": "code",
   "execution_count": 24,
   "outputs": [
    {
     "data": {
      "text/plain": "1.5"
     },
     "execution_count": 24,
     "metadata": {},
     "output_type": "execute_result"
    }
   ],
   "source": [
    "a=3\n",
    "b=2\n",
    "a/b"
   ],
   "metadata": {
    "collapsed": false,
    "pycharm": {
     "name": "#%%\n"
    }
   }
  },
  {
   "cell_type": "code",
   "execution_count": null,
   "outputs": [],
   "source": [],
   "metadata": {
    "collapsed": false,
    "pycharm": {
     "name": "#%%\n"
    }
   }
  }
 ],
 "metadata": {
  "kernelspec": {
   "display_name": "Python 3",
   "language": "python",
   "name": "python3"
  },
  "language_info": {
   "codemirror_mode": {
    "name": "ipython",
    "version": 3
   },
   "file_extension": ".py",
   "mimetype": "text/x-python",
   "name": "python",
   "nbconvert_exporter": "python",
   "pygments_lexer": "ipython3",
   "version": "3.8.5"
  }
 },
 "nbformat": 4,
 "nbformat_minor": 1
}