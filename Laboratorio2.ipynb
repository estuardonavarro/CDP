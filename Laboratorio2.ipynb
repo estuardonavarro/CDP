{
 "cells": [
  {
   "cell_type": "markdown",
   "metadata": {
    "collapsed": true,
    "pycharm": {
     "name": "#%% md\n"
    }
   },
   "source": [
    "<img src=\"https://www.galileo.edu/wp-content/uploads/2010/12/logo-ug.png\" width=\"200px\">\n",
    "<h3>Instituto de Investigación de operaciones</h3>\n",
    "<h3>Posgrado en Análisis y Predicción de Datos</h3>\n",
    "<h3><b>Ciencia de Datos con Python</b></h3>\n",
    "<h4><b>Profesor: Ing. Preng Biba</b></h4>\n",
    "\n",
    "<h4><b>Desarrollado por: Javier Navarro - 20015565</b></h4>\n"
   ]
  },
  {
   "cell_type": "markdown",
   "source": [
    "<h1>Laboratorio 2: Sintaxis, listas y tuplas</h1>"
   ],
   "metadata": {
    "collapsed": false
   }
  },
  {
   "cell_type": "markdown",
   "source": [
    "<h2> Parte 1: Programación y sintaxis</h2>\n",
    "Inciso 1: Programa que recibe de parámetro un número de segundos\n",
    "y que despliega en pantalla, las horas, minutos y segundos que representan."
   ],
   "metadata": {
    "collapsed": false
   }
  },
  {
   "cell_type": "code",
   "execution_count": 73,
   "outputs": [
    {
     "name": "stdout",
     "output_type": "stream",
     "text": [
      "Horas: 1 , Minutos: 37 , Segundos: 51\n"
     ]
    }
   ],
   "source": [
    "def inciso1(segundos):\n",
    "    # Calculando el numero entero de horas que representa segundos\n",
    "    if segundos < 0:\n",
    "        print(\"El tiempo no puede ser negativo.\")\n",
    "        return\n",
    "    horas = segundos // 3600\n",
    "    # Calculando el restante en segundos para obtener los minutos\n",
    "    resto = segundos % 3600\n",
    "    # Calculando el numero de minutos que representa el resto\n",
    "    minutos = resto // 60\n",
    "    # Calculando el numero de segundos restantes\n",
    "    resto = resto % 60\n",
    "    print(\"Horas:\", horas, \", Minutos:\", + minutos, \", Segundos:\", resto)\n",
    "num_segundos = input(\"Ingrese un número de segundos: \")\n",
    "try:\n",
    "    inciso1(int(num_segundos))\n",
    "except ValueError:\n",
    "    print(\"La entrada no es un entero.\")"
   ],
   "metadata": {
    "collapsed": false,
    "pycharm": {
     "name": "#%%\n"
    }
   }
  },
  {
   "cell_type": "markdown",
   "source": [
    "Inciso 2: Función en Python que dado un número entre 1 y 20. Y un carácter cualquiera\n",
    "despliegue cuatro patrones triangulares."
   ],
   "metadata": {
    "collapsed": false
   }
  },
  {
   "cell_type": "code",
   "execution_count": 74,
   "outputs": [
    {
     "name": "stdout",
     "output_type": "stream",
     "text": [
      "*       ****   ****    ****\n",
      "**       ***   ***      ***\n",
      "***       **   **        **\n",
      "****       *   *          *\n"
     ]
    }
   ],
   "source": [
    "def inciso2(n):\n",
    "    if n < 1 or n > 20:\n",
    "        print(\"El numero ingresado no cumple con los requisitos de rango.\")\n",
    "        return\n",
    "    separacion = 3\n",
    "    for i in range(0, n):\n",
    "        # Generando el primer patrón triangular\n",
    "        linea =  \"*\" * (i + 1)\n",
    "        linea += \" \" * (n - i + separacion)\n",
    "        # Generando el segundo patrón triangular\n",
    "        linea += \" \" * i\n",
    "        linea += \"*\" * (n - i)\n",
    "        linea += \" \" * separacion\n",
    "        # Generando el tercer patrón triangular\n",
    "        linea += \"*\" * (n - i)\n",
    "        linea += \" \" * i\n",
    "        linea += \" \" * separacion\n",
    "        # Generando el cuarto patrón triangular\n",
    "        linea +=  \" \" * (i + 1)\n",
    "        linea += \"*\" * (n - i)\n",
    "        print(linea)\n",
    "numero = input(\"Ingrese un número entre 1 y 20: \")\n",
    "try:\n",
    "    inciso2(int(numero))\n",
    "except ValueError:\n",
    "    print(\"La entrada no es un entero.\")"
   ],
   "metadata": {
    "collapsed": false,
    "pycharm": {
     "name": "#%%\n"
    }
   }
  },
  {
   "cell_type": "markdown",
   "source": [
    "Inciso 3: Programa que la fecha de nacimiento de una persona (puede ingresar por separado \n",
    "cada valor, es decir pedir primero día, luego mes y luego año), despliegue la edad\n",
    "de la persona en años, meses y días."
   ],
   "metadata": {
    "collapsed": false,
    "pycharm": {
     "name": "#%% md\n"
    }
   }
  },
  {
   "cell_type": "code",
   "execution_count": 42,
   "outputs": [
    {
     "name": "stdout",
     "output_type": "stream",
     "text": [
      "Tu edad aproximada es: 24\n"
     ]
    }
   ],
   "source": [
    "from datetime import date\n",
    "def inciso3(dia, mes, anio):\n",
    "    hoy = date.today()\n",
    "    # Validando fecha, se supone que el anio puede tomar cualquier valor entero.\n",
    "    try:\n",
    "        nacimiento = date(anio, mes, dia)\n",
    "        if hoy < nacimiento:\n",
    "            print(\"Usted aún no ha nacido.\")\n",
    "            return\n",
    "    except ValueError:\n",
    "        print(\"La fecha de nacimiento ingresada no es válida\")\n",
    "    edad = hoy.year - anio - ((hoy.month, hoy.day) < (mes, dia))\n",
    "    print(\"Tu edad aproximada es:\", edad)\n",
    "\n",
    "try:\n",
    "    d, m, a = input(\"Ingrese fecha de nacimiento (dd-mm-aaaa): \").split(\"-\")\n",
    "    inciso3(int(d), int(m), int(a))\n",
    "except ValueError:\n",
    "    print(\"La entrada no es un entero.\")"
   ],
   "metadata": {
    "collapsed": false,
    "pycharm": {
     "name": "#%%\n"
    }
   }
  },
  {
   "cell_type": "markdown",
   "source": [
    "<h2> Parte 2: Estructuras de datos</h2>\n",
    "Inciso 1: función que dada una tupla de elementos (numeros o letras) esta se\n",
    "convierta a un string.\n"
   ],
   "metadata": {
    "collapsed": false,
    "pycharm": {
     "name": "#%% md\n"
    }
   }
  },
  {
   "cell_type": "code",
   "execution_count": 49,
   "outputs": [
    {
     "name": "stdout",
     "output_type": "stream",
     "text": [
      "102040570\n"
     ]
    }
   ],
   "source": [
    "def get_string(tupla):\n",
    "    result = \"\"\n",
    "    if type(tupla) is not tuple:\n",
    "        print(\"Debe ser una tupla.\")\n",
    "        return \"Hubo un error.\"\n",
    "    for item in tupla:\n",
    "        if not(type(item) is int or type(item) is float or type(item) is str):\n",
    "            print(\"Los elementos de la tupla deben ser numeros o letras.\")\n",
    "            return \"Hubo un error.\"\n",
    "        result += str(item)\n",
    "    return result\n",
    "t = (10, 20, 40, 5, 70)\n",
    "print(get_string(t))"
   ],
   "metadata": {
    "collapsed": false,
    "pycharm": {
     "name": "#%%\n"
    }
   }
  },
  {
   "cell_type": "markdown",
   "source": [
    "Inciso 2: Programa que dada una lista de tuplas, elimina las tuplas que están vacías.\n",
    "Un punto importante es que la solución propuesta resuelve un nivel n de anidamiento,\n",
    "esto por ser recursivo."
   ],
   "metadata": {
    "collapsed": false,
    "pycharm": {
     "name": "#%% md\n"
    }
   }
  },
  {
   "cell_type": "code",
   "execution_count": 71,
   "outputs": [
    {
     "name": "stdout",
     "output_type": "stream",
     "text": [
      "[('X',), ('a', 'b'), ('a', 'b', 'c'), 'd']\n"
     ]
    }
   ],
   "source": [
    "def recorrer_lista(actual):\n",
    "    lista=[]\n",
    "    for i in actual:\n",
    "        if type(i) is not tuple:\n",
    "            lista.append(i)\n",
    "        else:\n",
    "            if len(i)>0:\n",
    "                lista.append(recorrer_lista(i))\n",
    "    return tuple(lista)\n",
    "\n",
    "lista_tuplas = [(), (), ('X',), ('a', 'b'), ('a', 'b', 'c'), 'd']\n",
    "\n",
    "print (list(recorrer_lista(lista_tuplas)))"
   ],
   "metadata": {
    "collapsed": false,
    "pycharm": {
     "name": "#%%\n"
    }
   }
  },
  {
   "cell_type": "markdown",
   "source": [
    "Inciso 3:  Función en Python que dada una tupla de tuplas con numeros,\n",
    "produzca una tupla con el promedio de cada tupla individual."
   ],
   "metadata": {
    "collapsed": false,
    "pycharm": {
     "name": "#%% md\n"
    }
   }
  },
  {
   "cell_type": "code",
   "execution_count": 72,
   "outputs": [
    {
     "name": "stdout",
     "output_type": "stream",
     "text": [
      "(10.5, 44.0, 58.0)\n"
     ]
    }
   ],
   "source": [
    "def get_promedios(tupla):\n",
    "    lista=[]\n",
    "    for i in tupla:\n",
    "        lista.append(sum(i)/len(i))\n",
    "    return tuple(lista)\n",
    "t =  ((10, 10, 10, 12), (30, 45, 56, 45), (81, 80, 39, 32))\n",
    "print(get_promedios(t))"
   ],
   "metadata": {
    "collapsed": false,
    "pycharm": {
     "name": "#%%\n"
    }
   }
  },
  {
   "cell_type": "code",
   "execution_count": null,
   "outputs": [],
   "source": [],
   "metadata": {
    "collapsed": false,
    "pycharm": {
     "name": "#%%\n"
    }
   }
  }
 ],
 "metadata": {
  "kernelspec": {
   "display_name": "Python 3",
   "language": "python",
   "name": "python3"
  },
  "language_info": {
   "codemirror_mode": {
    "name": "ipython",
    "version": 2
   },
   "file_extension": ".py",
   "mimetype": "text/x-python",
   "name": "python",
   "nbconvert_exporter": "python",
   "pygments_lexer": "ipython2",
   "version": "2.7.6"
  }
 },
 "nbformat": 4,
 "nbformat_minor": 0
}