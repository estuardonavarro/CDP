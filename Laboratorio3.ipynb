{
 "cells": [
  {
   "cell_type": "markdown",
   "metadata": {
    "collapsed": true,
    "pycharm": {
     "name": "#%% md\n"
    }
   },
   "source": [
    "<img src=\"https://www.galileo.edu/wp-content/uploads/2010/12/logo-ug.png\" width=\"200px\">\n",
    "<h3>Instituto de Investigación de operaciones</h3>\n",
    "<h3>Posgrado en Análisis y Predicción de Datos</h3>\n",
    "<h3><b>Ciencia de Datos con Python</b></h3>\n",
    "<h4><b>Profesor: Ing. Preng Biba</b></h4>\n",
    "\n",
    "<h4><b>Desarrollado por: Javier Navarro - 20015565</b></h4>\n"
   ]
  },
  {
   "cell_type": "markdown",
   "source": [
    "<h1>Laboratorio 3: Diccionarios, sets y programación orientada a objetos</h1>"
   ],
   "metadata": {
    "collapsed": false
   }
  },
  {
   "cell_type": "markdown",
   "source": [
    "<h2> Parte 1: Programación Orientada a Objetos</h2>\n",
    "Inciso 1: Programa que recibe de parámetro un número de segundos\n",
    "y que despliega en pantalla, las horas, minutos y segundos que representan.\n",
    "\n",
    "Para hacer mas útil mi clase, calcularé la covariancia y la variancia,\n",
    "ya que los coeficientes se pueden calcular más fácil con estas funciones."
   ],
   "metadata": {
    "collapsed": false
   }
  },
  {
   "cell_type": "code",
   "execution_count": 73,
   "outputs": [
    {
     "name": "stdout",
     "output_type": "stream",
     "text": [
      "Horas: 1 , Minutos: 37 , Segundos: 51\n"
     ]
    }
   ],
   "source": [
    "class regression():\n",
    "\n",
    "    def mean(self, arr):\n",
    "        \"\"\"\n",
    "        Método que calcula la media dado un arreglo\n",
    "        :param arr: Conjunto de datos a los cuales se les calculara la media\n",
    "        :return: Media\n",
    "        \"\"\"\n",
    "        total = sum(arr)\n",
    "        n = len(arr)\n",
    "        mean = total / float(n)\n",
    "        return mean\n",
    "\n",
    "    def variance(self, arr):\n",
    "        \"\"\"\n",
    "        Método que calcula la varianza dado un vector x\n",
    "        :param arr: Conjunto de datos a los cuales se les calculara la varianza\n",
    "        :return: varianza\n",
    "        \"\"\"\n",
    "        mean = self.mean(arr)\n",
    "        mean_difference_squared = [pow((reading - mean), 2) for reading in arr]\n",
    "        variance = sum(mean_difference_squared)\n",
    "        return variance / float(len(arr) - 1)\n",
    "    \n",
    "    def covariance(self, x, y):\n",
    "        \"\"\"\n",
    "        Método que calcula la covarianza dados dos vectores X Y\n",
    "        :param x: Conjunto de datos X a los cuales se les calculara la varianza\n",
    "        :param y: Conjunto de datos Y a los cuales se les calculara la varianza\n",
    "        :return: covarianza\n",
    "        \"\"\"\n",
    "        x_mean = self.mean(x)\n",
    "        y_mean = self.mean(y)\n",
    "        size = len(x)\n",
    "        covariance = 0.0\n",
    "        for i in range(0, size):\n",
    "            covariance += (x[i] - x_mean) * (y[i] - y_mean)\n",
    "        return covariance / float(size - 1)\n",
    "\n",
    "    def __init__(self,x,y):\n",
    "        \"\"\"\n",
    "        Constructor de la clase, inicializa los coeficientes\n",
    "        :param x:\n",
    "        :param y:\n",
    "        \"\"\"\n",
    "        self.x=x\n",
    "        self.y=y\n",
    "        self.beta1=self.covariance(x, y) / float(self.variance(x))\n",
    "        self.beta0 = self.mean(y) - (self.beta1 * self.mean(x))\n",
    "\n",
    "    def PredictN(self, vals):\n",
    "        \"\"\"\n",
    "        Este método devuelve la predicción de la regresión aplicada sobre los valores que recibe como parámetro\n",
    "        :return: la predicción\n",
    "        \"\"\"\n",
    "        return self.beta0+self.beta1*vals\n",
    "\n",
    "    def Predict(self, val):\n",
    "        \"\"\"\n",
    "        Este método devuelve la predicción de la regresión aplicada sobre el valor que recibe como parámetro\n",
    "        :return: la predicción\n",
    "        \"\"\"\n",
    "        return self.PredictN(self,[val])[0]\n",
    "\n",
    "    def r2(self):\n",
    "        y_predict=self.PredictN(self.x)\n",
    "        sum_squared_regression_error = sum(pow((y_predict - self.mean(self.y)), 2))\n",
    "        sum_squared_total_error = sum(pow((y_predict-self.y ), 2))\n",
    "        return sum_squared_regression_error/sum_squared_total_error\n",
    "\n",
    "    def r(self):\n",
    "        return self.r2()**0.5\n",
    "\n",
    "    def getAllRegParams(self):\n",
    "        return {'b0':self.beta0,'b1':self.beta1,'r2':self.r2(),'r':self.r()}\n",
    "\n",
    "    def from_file(self,fileName):\n",
    "        \"\"\"\n",
    "        Constructor de la clase, inicializa los coeficientes\n",
    "        :param x:\n",
    "        :param y:\n",
    "        \"\"\"\n",
    "        with open(fileName, 'r') as f:\n",
    "            self.x = []\n",
    "            self.y = []\n",
    "            for line in f:\n",
    "                variables = line.split(',')\n",
    "                self.y.append(variables[0])\n",
    "                self.x.append(variables[1])\n",
    "        self.beta1=self.covariance(self.x, self.y) / float(self.variance(self.x))\n",
    "        self.beta0 = self.mean(self.y) - (self.beta1 * self.mean(self.x))\n",
    "\n"
   ],
   "metadata": {
    "collapsed": false,
    "pycharm": {
     "name": "#%%\n"
    }
   }
  }
 ],
 "metadata": {
  "kernelspec": {
   "display_name": "Python 3",
   "language": "python",
   "name": "python3"
  },
  "language_info": {
   "codemirror_mode": {
    "name": "ipython",
    "version": 2
   },
   "file_extension": ".py",
   "mimetype": "text/x-python",
   "name": "python",
   "nbconvert_exporter": "python",
   "pygments_lexer": "ipython2",
   "version": "2.7.6"
  }
 },
 "nbformat": 4,
 "nbformat_minor": 0
}