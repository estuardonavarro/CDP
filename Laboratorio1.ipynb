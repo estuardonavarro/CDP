{
 "cells": [
  {
   "cell_type": "markdown",
   "metadata": {},
   "source": [
    "<img src=\"https://www.galileo.edu/wp-content/uploads/2010/12/logo-ug.png\" width=\"200px\">\n",
    "<h3>Instituto de Investigación de operaciones</h3>\n",
    "<h3>Posgrado en Análisis y Predicción de Datos</h3>\n",
    "<h3><b>Ciencia de Datos con Python</b></h3>\n",
    "<h4><b>Profesor: Ing. Preng Biba</b></h4>\n",
    "\n",
    "<h4><b>Desarrollado por: Javier Navarro - 20015565</b></h4>\n"
   ]
  },
  {
   "cell_type": "markdown",
   "metadata": {},
   "source": [
    "<h1>Laboratorio 1: Git</h1>"
   ]
  },
  {
   "cell_type": "markdown",
   "metadata": {},
   "source": [
    "Conceptos básicos"
   ]
  },
  {
   "cell_type": "markdown",
   "metadata": {},
   "source": [
    "¿Qué es git?\n",
    "Es un sistema de control de versiones distribuido de código abierto. A diferencia de otros sistemas de control de versiones que almacenan el historial de versiones completo de un proyecto en un solo lugar, Git le da a cada desarrollador su propio repositorio que contiene todo el historial de cambios. \n",
    "1. <b>Rama</b>: Las ramas representan versiones específicas de un repositorio que se \"ramifican\" del proyecto principal. Las ramas permiten realizar un seguimiento de los cambios experimentales que se realiza en los repositorios y volver a las versiones anteriores.\n",
    "2. <b>Commit</b>: Un commit representa un punto específico en la historia del proyecto.\n",
    "3. <b>Fetch</b>: copia y descarga todos los archivos de una rama al dispositivo. Permite guardar los últimos cambios en sus repositorios. Es posible obtener múltiples ramas simultáneamente.\n",
    "4. <b>Head</b>: Es el commit más reciente, representa la confirmación más reciente del repositorio en el que se está trabajando actualmente.\n",
    "5. <b>Indice</b>:  Cada vez que se agrega, elimina o modifica un archivo, permanece en el índice hasta que esté listo para confirmar los cambios. Este indice se puede mostrar con el siguiente comando:"
   ]
  },
  {
   "cell_type": "code",
   "execution_count": null,
   "metadata": {},
   "outputs": [],
   "source": [
    " %%cmd\n",
    " git status"
   ]
  },
  {
   "cell_type": "markdown",
   "metadata": {},
   "source": [
    "6. <b>Pull</b>:  El comando git pull se usa para agregar cambios a la rama maestra.\n",
    "7. <b>Push</b>: El comando git push se usa para actualizar ramas remotas con los últimos cambios que ha confirmado.\n",
    "8. <b>Repositorio</b>:Los repositorios de Git contienen todos los archivos de su proyecto, incluidas ramas, etiquetas y confirmaciones"
   ]
  },
  {
   "cell_type": "markdown",
   "metadata": {},
   "source": [
    "<h2>Ejemplos</h2>"
   ]
  },
  {
   "cell_type": "markdown",
   "metadata": {},
   "source": [
    "Para colonar un repositorio"
   ]
  },
  {
   "cell_type": "code",
   "execution_count": null,
   "metadata": {},
   "outputs": [],
   "source": [
    "%cmd\n",
    "git init\n",
    "git remote add origin https://name\\@bitbucket.org/name/rep.git\n",
    "git fetch\n",
    "git checkout -t origin/master"
   ]
  }
 ],
 "metadata": {
  "kernelspec": {
   "display_name": "Python 3",
   "language": "python",
   "name": "python3"
  },
  "language_info": {
   "codemirror_mode": {
    "name": "ipython",
    "version": 3
   },
   "file_extension": ".py",
   "mimetype": "text/x-python",
   "name": "python",
   "nbconvert_exporter": "python",
   "pygments_lexer": "ipython3",
   "version": "3.8.5"
  }
 },
 "nbformat": 4,
 "nbformat_minor": 4
}
